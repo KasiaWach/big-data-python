{
 "cells": [
  {
   "cell_type": "markdown",
   "metadata": {
    "collapsed": false
   },
   "source": [
    "# Big Data w biznesie"
   ]
  },
  {
   "cell_type": "markdown",
   "metadata": {
    "collapsed": false
   },
   "source": [
    "## Drugi notebook zadania"
   ]
  },
  {
   "cell_type": "code",
   "execution_count": 2,
   "metadata": {
    "collapsed": false
   },
   "outputs": [
    {
     "data": {
      "text/html": [
       "<style><style>\n",
       "#notebook-container{\n",
       "    box-shadow: none !important;\n",
       "}\n",
       "\n",
       "#ipython_notebook img{                                                                                        \n",
       "    display:block; \n",
       "    background: url(\"images/LOGO-jupyter.png\") no-repeat;\n",
       "    background-size: contain;\n",
       "    width: 85px;\n",
       "    height: 52px;\n",
       "    padding-left: 100px;\n",
       "    padding-right: 50px;\n",
       "    -moz-box-sizing: border-box;\n",
       "    box-sizing: border-box;\n",
       "}\n",
       "\n",
       ".notebook_app {\n",
       "    background: #fff !important;\n",
       "}\n",
       "\n",
       "body > #header {\n",
       "    margin-bottom: -5px;\n",
       "}\n",
       "\n",
       "div#notebook {\n",
       "    padding-top: 0px;\n",
       "}\n",
       "\n",
       "/* SCROLL BAR */\n",
       "::-webkit-scrollbar {\n",
       "    max-width: 10px;\n",
       "    max-height: 10px;\n",
       "    border-radius: 3px;\n",
       "    border: none;\n",
       "}\n",
       "::-webkit-scrollbar-track {\n",
       "    border: none;\n",
       "    max-width: 10px;\n",
       "    max-height: 10px;\n",
       "}\n",
       "::-webkit-scrollbar-thumb {\n",
       "    border-radius: 5px;\n",
       "    border: none;\n",
       "    background: #0000003d;\n",
       "    background-clip: content-box;\n",
       "    max-width: 10px;\n",
       "}\n",
       "\n",
       "/* HEADER */\n",
       "body > #header #header-container{\n",
       "    padding-top: 15px;\n",
       "    padding-bottom: 5px;\n",
       "}\n",
       "\n",
       "body > #header div.header-bar {\n",
       "    height: 0px;\n",
       "}\n",
       "\n",
       "#header #menus{\n",
       "    padding: 5px 0px;\n",
       "}\n",
       "\n",
       "#header #menubar, #header #maintoolbar {\n",
       "    margin-top: 0.5em;\n",
       "    margin-bottom: 0.5em;\n",
       "    padding: 0px;\n",
       "}\n",
       "\n",
       "body > #header #header-container,\n",
       "body > #header #menubar-container {\n",
       "    padding-left: 10px;\n",
       "    padding-right: 10px;\n",
       "}\n",
       "\n",
       "#header #maintoolbar-container {\n",
       "    margin-bottom: 0px;\n",
       "    margin-top: 0px;\n",
       "}\n",
       "\n",
       "div.navbar-default {\n",
       "    border: 0px;\n",
       "    border-radius: 0px;\n",
       "}\n",
       "\n",
       "#header, #header .btn, #header select, #header #menubar a {\n",
       "    color: #323232;\n",
       "}\n",
       "\n",
       "#header .btn, #header select {\n",
       "    background-color: #f8f8f8;\n",
       "    border: 0px;\n",
       "    border-radius: 0px;\n",
       "}\n",
       "\n",
       "#maintoolbar .btn, #maintoolbar select {\n",
       "    height: 22px !important;\n",
       "    line-height: 22px;\n",
       "    padding-top: 0px;\n",
       "    box-shadow: none;\n",
       "}\n",
       "\n",
       "div.navbar-nav > li > div.dropdown-menu {\n",
       "    border: 0px;\n",
       "    background-color: #f8f8f8;\n",
       "}\n",
       "\n",
       "\n",
       "/* CELLS */\n",
       "div.prompt, code, kbd, pre, samp {\n",
       "    font-family: \"Cascadia Code\", 'Courier New', Courier, monospace, sans-serif !important;\n",
       "    font-size: 13px !important;\n",
       "}\n",
       "\n",
       "div.input_area {\n",
       "    border: none;\n",
       "    border-radius: 0;\n",
       "    background: #f7f7f7;\n",
       "    /* margin: 0.5em 0; */\n",
       "}\n",
       "\n",
       "div.cell {\n",
       "    transition: all 0.25s;\n",
       "    border: none;\n",
       "    padding: 0.5em;\n",
       "    /* position: relative;\n",
       "    top: 0; */\n",
       "}\n",
       "\n",
       "div.cell.selected, div.cell.selected.jupyter-soft-selected {\n",
       "    border: none;\n",
       "    background: transparent;\n",
       "    box-shadow: 0px 0px 12px 1px rgba(87, 87, 87, 0.2);\n",
       "    border-radius: 0px\n",
       "}\n",
       "\n",
       "div.prompt, div.inner_cell, div.input_area {\n",
       "    padding: 0.5em;\n",
       "}\n",
       "\n",
       "div.text_cell_render, div.rendered_html {\n",
       "    padding: 0;\n",
       "}\n",
       "\n",
       "div.run_this_cell {\n",
       "    display: none;\n",
       "}\n",
       "\n",
       "div.output.output_scroll {\n",
       "    -webkit-box-shadow: inset 0px 0px 12px 1px rgba(87, 87, 87, 0.2);\n",
       "    box-shadow: inset 0px 0px 12px 1px rgba(87, 87, 87, 0.2);\n",
       "}\n",
       "\n",
       "div.prompt.input_prompt {\n",
       "    padding: 1.5em;\n",
       "}\n",
       "\n",
       "div.prompt.output_prompt {\n",
       "    padding: 0.6em 1.5em;\n",
       "}\n",
       "\n",
       "\n",
       "/* TEXT CELL FORMATTING */\n",
       "div.text_cell p,\n",
       "div.text_cell li,\n",
       "div.text_cell table,\n",
       "div.text_cell h1,\n",
       "div.text_cell h2,\n",
       "div.text_cell h3,\n",
       "div.text_cell h4,\n",
       "div.text_cell h5 {\n",
       "    font-family: 'Segoe UI', Tahoma, Geneva, Verdana, sans-serif;\n",
       "    color: rgba(50, 50, 50, 1);\n",
       "    line-height: 1.4;\n",
       "    margin: 0.5em 0em;\n",
       "}\n",
       "\n",
       "div.text_cell p {\n",
       "    line-height: 1.6;\n",
       "}\n",
       "\n",
       "div.text_cell ul, div.text_cell ol {\n",
       "    margin: 1em 0em;\n",
       "}\n",
       "\n",
       "div.text_cell li {\n",
       "    line-height: 1;\n",
       "}\n",
       "\n",
       "div.rendered_html table {\n",
       "    margin-left: inherit;\n",
       "    margin-right: inherit;\n",
       "}\n",
       "\n",
       "div.rendered_html blockquote {\n",
       "    margin-left: 0;\n",
       "    margin-right: 0;\n",
       "    border-left-color: rgb(162, 162, 162);\n",
       "    background-color: #f7f7f7;\n",
       "}\n",
       "\n",
       "div.rendered_html blockquote p{\n",
       "    color: rgba(0, 0, 0, 0.5);\n",
       "    font-weight: 600;\n",
       "}\n",
       "\n",
       "div.rendered_html pre {\n",
       "    margin-left: 0;\n",
       "    margin-right: 0;\n",
       "    padding: 1em;\n",
       "    background-color: #f7f7f7;\n",
       "}\n",
       "\n",
       "div.rendered_html pre * {\n",
       "    background-color: rgba(0,0,0,0) !important;\n",
       "}\n",
       "\n",
       "\n",
       "div.admonition { \n",
       "    background-color: #ffffff;\n",
       "    box-shadow: 0px 4px 3px -2px gray;\n",
       "    border-radius: 4px; \n",
       "    padding: 0.5em;\n",
       "    margin-top: 2em;\n",
       "    margin-bottom: 2em;\n",
       "       }\n",
       "\n",
       "div.admonition:before {\n",
       "    font-size: 1.0em;\n",
       "    visibility: visible; \n",
       "    display: block;\n",
       "    height: 2em;\n",
       "    top: 0em;\n",
       "    left: -0.44em;\n",
       "    width:  101%;\n",
       "    border-radius: 0px 10px 0px 0px;\n",
       "    margin-left: -0.0em;\n",
       "    margin-top: -0.3em;\n",
       "    top: -2px;\n",
       "    font-weight: bold;\n",
       "    position: relative;\n",
       "    display: flex;\n",
       "    align-items: center;\n",
       "    font-weight: bold;\n",
       "    position: relative;\n",
       "    vertical-align: middle;\n",
       "    }\n",
       "\n",
       "div.admonition.warn {\n",
       "    border-left: 4px solid #F9E04B; \n",
       "    }\n",
       "\n",
       "div.admonition.warn:before { \n",
       "    font-size: 1.2em !important;\n",
       "    content: '\\00a0    ⚠️ Uwaga!';\n",
       "    background: #ffff99;\n",
       "    }\n",
       "\n",
       "div.admonition.info {border-left: 4px solid #9594ff;}\n",
       "\n",
       "div.admonition.info:before { font-size: 1.2em !important;\n",
       "    content: '\\00a0  💡 To ciekawe!';\n",
       "    background: #ddeeff;}\n",
       "\n",
       "div.admonition.danger {border-left: 4px solid #ff5555; }\n",
       "\n",
       "div.danger.admonition:before { font-size: 1.2em !important;\n",
       "    content: '\\00a0    🛑 Uwaga, błędy!';\n",
       "    background: #ffcccc;}\n",
       "\n",
       "div.admonition.see {border-left: 4px solid #33cc33; }\n",
       "\n",
       "div.admonition.see:before { font-size: 1.2em !important;\n",
       "    content: '\\00a0    🌐 Dowiedz się więcej!';\n",
       "    background: #ccffcc;}\n",
       "\n",
       "div.admonition.code {border-left: 4px solid #aaaaaa; }\n",
       "\n",
       "div.admonition.code:before { font-size: 1.2em !important;\n",
       "    content: '\\00a0    🐍 Wywołaj poniższą komórkę!';\n",
       "    background: #eeeeee\n",
       ";}\n",
       "\n",
       "div.admonition.code.codes:before { font-size: 1.2em !important;\n",
       "    content: '\\00a0    🐍 Wywołaj poniższe komórki!';}\n",
       "\n",
       "div.admonition.task {border-left: 4px solid #aaaaaa; }\n",
       "\n",
       "div.admonition.task:before { font-size: 1.2em !important;\n",
       "    content: '\\00a0    💭 Wykonaj poniższe zadanie!';\n",
       "    background: #eeeeee\n",
       ";}\n",
       "\n",
       "</style></style>"
      ],
      "text/plain": [
       "<IPython.core.display.HTML object>"
      ]
     },
     "execution_count": 2,
     "metadata": {},
     "output_type": "execute_result"
    }
   ],
   "source": [
    "from IPython.core.display import HTML\n",
    "\n",
    "def _set_css_style(css_file_path):\n",
    "   \"\"\"\n",
    "   Read the custom CSS file and load it into Jupyter.\n",
    "   Pass the file path to the CSS file.\n",
    "   \"\"\"\n",
    "\n",
    "   styles = open(css_file_path, \"r\").read()\n",
    "   s = '<style>%s</style>' % styles\n",
    "   return HTML(s)\n",
    "_set_css_style(\"/Users/kasia/Desktop/programowanie/big-data/cw_2/custom.css\")"
   ]
  },
  {
   "cell_type": "markdown",
   "metadata": {
    "collapsed": false
   },
   "source": [
    "#### Zaimportuj biblioteki numpy i pandas."
   ]
  },
  {
   "cell_type": "code",
   "execution_count": 3,
   "metadata": {
    "collapsed": false
   },
   "outputs": [],
   "source": [
    "import numpy as np\n",
    "import pandas as pd"
   ]
  },
  {
   "cell_type": "markdown",
   "metadata": {
    "collapsed": false
   },
   "source": [
    "#### Załaduj plik csv.\n",
    "***\n",
    "Do zmiennej `df` załaduj plik `cars.csv`."
   ]
  },
  {
   "cell_type": "code",
   "execution_count": 4,
   "metadata": {},
   "outputs": [],
   "source": [
    "file = '/Users/kasia/Desktop/programowanie/big-data/cw_1/cars.csv'"
   ]
  },
  {
   "cell_type": "code",
   "execution_count": 5,
   "metadata": {
    "collapsed": false
   },
   "outputs": [],
   "source": [
    "df = pd.read_csv(file)"
   ]
  },
  {
   "cell_type": "markdown",
   "metadata": {
    "collapsed": false
   },
   "source": [
    "#### Wyświetl pierwsze 5 linijek obiektu ''df''."
   ]
  },
  {
   "cell_type": "code",
   "execution_count": 6,
   "metadata": {},
   "outputs": [
    {
     "data": {
      "text/html": [
       "<div>\n",
       "<style scoped>\n",
       "    .dataframe tbody tr th:only-of-type {\n",
       "        vertical-align: middle;\n",
       "    }\n",
       "\n",
       "    .dataframe tbody tr th {\n",
       "        vertical-align: top;\n",
       "    }\n",
       "\n",
       "    .dataframe thead th {\n",
       "        text-align: right;\n",
       "    }\n",
       "</style>\n",
       "<table border=\"1\" class=\"dataframe\">\n",
       "  <thead>\n",
       "    <tr style=\"text-align: right;\">\n",
       "      <th></th>\n",
       "      <th>manufacturer_name</th>\n",
       "      <th>model_name</th>\n",
       "      <th>transmission</th>\n",
       "      <th>color</th>\n",
       "      <th>odometer_value</th>\n",
       "      <th>year_produced</th>\n",
       "      <th>engine_fuel</th>\n",
       "      <th>engine_has_gas</th>\n",
       "      <th>engine_type</th>\n",
       "      <th>engine_capacity</th>\n",
       "      <th>...</th>\n",
       "      <th>feature_1</th>\n",
       "      <th>feature_2</th>\n",
       "      <th>feature_3</th>\n",
       "      <th>feature_4</th>\n",
       "      <th>feature_5</th>\n",
       "      <th>feature_6</th>\n",
       "      <th>feature_7</th>\n",
       "      <th>feature_8</th>\n",
       "      <th>feature_9</th>\n",
       "      <th>duration_listed</th>\n",
       "    </tr>\n",
       "  </thead>\n",
       "  <tbody>\n",
       "    <tr>\n",
       "      <th>0</th>\n",
       "      <td>Subaru</td>\n",
       "      <td>Outback</td>\n",
       "      <td>automatic</td>\n",
       "      <td>silver</td>\n",
       "      <td>190000</td>\n",
       "      <td>2010</td>\n",
       "      <td>gasoline</td>\n",
       "      <td>False</td>\n",
       "      <td>gasoline</td>\n",
       "      <td>2.5</td>\n",
       "      <td>...</td>\n",
       "      <td>True</td>\n",
       "      <td>True</td>\n",
       "      <td>True</td>\n",
       "      <td>False</td>\n",
       "      <td>True</td>\n",
       "      <td>False</td>\n",
       "      <td>True</td>\n",
       "      <td>True</td>\n",
       "      <td>True</td>\n",
       "      <td>16</td>\n",
       "    </tr>\n",
       "    <tr>\n",
       "      <th>1</th>\n",
       "      <td>Subaru</td>\n",
       "      <td>Outback</td>\n",
       "      <td>automatic</td>\n",
       "      <td>blue</td>\n",
       "      <td>290000</td>\n",
       "      <td>2002</td>\n",
       "      <td>gasoline</td>\n",
       "      <td>False</td>\n",
       "      <td>gasoline</td>\n",
       "      <td>3.0</td>\n",
       "      <td>...</td>\n",
       "      <td>True</td>\n",
       "      <td>False</td>\n",
       "      <td>False</td>\n",
       "      <td>True</td>\n",
       "      <td>True</td>\n",
       "      <td>False</td>\n",
       "      <td>False</td>\n",
       "      <td>False</td>\n",
       "      <td>True</td>\n",
       "      <td>83</td>\n",
       "    </tr>\n",
       "    <tr>\n",
       "      <th>2</th>\n",
       "      <td>Subaru</td>\n",
       "      <td>Forester</td>\n",
       "      <td>automatic</td>\n",
       "      <td>red</td>\n",
       "      <td>402000</td>\n",
       "      <td>2001</td>\n",
       "      <td>gasoline</td>\n",
       "      <td>False</td>\n",
       "      <td>gasoline</td>\n",
       "      <td>2.5</td>\n",
       "      <td>...</td>\n",
       "      <td>True</td>\n",
       "      <td>False</td>\n",
       "      <td>False</td>\n",
       "      <td>False</td>\n",
       "      <td>False</td>\n",
       "      <td>False</td>\n",
       "      <td>False</td>\n",
       "      <td>True</td>\n",
       "      <td>True</td>\n",
       "      <td>151</td>\n",
       "    </tr>\n",
       "    <tr>\n",
       "      <th>3</th>\n",
       "      <td>Subaru</td>\n",
       "      <td>Impreza</td>\n",
       "      <td>mechanical</td>\n",
       "      <td>blue</td>\n",
       "      <td>10000</td>\n",
       "      <td>1999</td>\n",
       "      <td>gasoline</td>\n",
       "      <td>False</td>\n",
       "      <td>gasoline</td>\n",
       "      <td>3.0</td>\n",
       "      <td>...</td>\n",
       "      <td>False</td>\n",
       "      <td>False</td>\n",
       "      <td>False</td>\n",
       "      <td>False</td>\n",
       "      <td>False</td>\n",
       "      <td>False</td>\n",
       "      <td>False</td>\n",
       "      <td>False</td>\n",
       "      <td>False</td>\n",
       "      <td>86</td>\n",
       "    </tr>\n",
       "    <tr>\n",
       "      <th>4</th>\n",
       "      <td>Subaru</td>\n",
       "      <td>Legacy</td>\n",
       "      <td>automatic</td>\n",
       "      <td>black</td>\n",
       "      <td>280000</td>\n",
       "      <td>2001</td>\n",
       "      <td>gasoline</td>\n",
       "      <td>False</td>\n",
       "      <td>gasoline</td>\n",
       "      <td>2.5</td>\n",
       "      <td>...</td>\n",
       "      <td>True</td>\n",
       "      <td>False</td>\n",
       "      <td>True</td>\n",
       "      <td>True</td>\n",
       "      <td>False</td>\n",
       "      <td>False</td>\n",
       "      <td>False</td>\n",
       "      <td>False</td>\n",
       "      <td>True</td>\n",
       "      <td>7</td>\n",
       "    </tr>\n",
       "  </tbody>\n",
       "</table>\n",
       "<p>5 rows × 30 columns</p>\n",
       "</div>"
      ],
      "text/plain": [
       "  manufacturer_name model_name transmission   color  odometer_value  \\\n",
       "0            Subaru    Outback    automatic  silver          190000   \n",
       "1            Subaru    Outback    automatic    blue          290000   \n",
       "2            Subaru   Forester    automatic     red          402000   \n",
       "3            Subaru    Impreza   mechanical    blue           10000   \n",
       "4            Subaru     Legacy    automatic   black          280000   \n",
       "\n",
       "   year_produced engine_fuel  engine_has_gas engine_type  engine_capacity  \\\n",
       "0           2010    gasoline           False    gasoline              2.5   \n",
       "1           2002    gasoline           False    gasoline              3.0   \n",
       "2           2001    gasoline           False    gasoline              2.5   \n",
       "3           1999    gasoline           False    gasoline              3.0   \n",
       "4           2001    gasoline           False    gasoline              2.5   \n",
       "\n",
       "   ... feature_1  feature_2 feature_3 feature_4  feature_5  feature_6  \\\n",
       "0  ...      True       True      True     False       True      False   \n",
       "1  ...      True      False     False      True       True      False   \n",
       "2  ...      True      False     False     False      False      False   \n",
       "3  ...     False      False     False     False      False      False   \n",
       "4  ...      True      False      True      True      False      False   \n",
       "\n",
       "  feature_7  feature_8  feature_9  duration_listed  \n",
       "0      True       True       True               16  \n",
       "1     False      False       True               83  \n",
       "2     False       True       True              151  \n",
       "3     False      False      False               86  \n",
       "4     False      False       True                7  \n",
       "\n",
       "[5 rows x 30 columns]"
      ]
     },
     "execution_count": 6,
     "metadata": {},
     "output_type": "execute_result"
    }
   ],
   "source": [
    "df.head(5)"
   ]
  },
  {
   "cell_type": "markdown",
   "metadata": {
    "collapsed": false
   },
   "source": [
    "#### Sprawdź, które kolumny zamienić na typ 'category'.\n",
    "***\n",
    "Kolumny, w których wartości przyjmują tylko kilka różnych parametrów, warto zamienić typ na 'category'."
   ]
  },
  {
   "cell_type": "code",
   "execution_count": 7,
   "metadata": {
    "collapsed": false
   },
   "outputs": [
    {
     "data": {
      "text/plain": [
       "manufacturer_name     object\n",
       "model_name            object\n",
       "transmission          object\n",
       "color                 object\n",
       "odometer_value         int64\n",
       "year_produced          int64\n",
       "engine_fuel           object\n",
       "engine_has_gas          bool\n",
       "engine_type           object\n",
       "engine_capacity      float64\n",
       "body_type             object\n",
       "has_warranty            bool\n",
       "state                 object\n",
       "drivetrain            object\n",
       "price_usd            float64\n",
       "is_exchangeable         bool\n",
       "location_region       object\n",
       "number_of_photos       int64\n",
       "up_counter             int64\n",
       "feature_0               bool\n",
       "feature_1               bool\n",
       "feature_2               bool\n",
       "feature_3               bool\n",
       "feature_4               bool\n",
       "feature_5               bool\n",
       "feature_6               bool\n",
       "feature_7               bool\n",
       "feature_8               bool\n",
       "feature_9               bool\n",
       "duration_listed        int64\n",
       "dtype: object"
      ]
     },
     "execution_count": 7,
     "metadata": {},
     "output_type": "execute_result"
    }
   ],
   "source": [
    "df.dtypes"
   ]
  },
  {
   "cell_type": "markdown",
   "metadata": {
    "collapsed": false
   },
   "source": [
    "#### Napisz funkcję, która nadaje kolumnom typ 'category'.\n",
    "***\n",
    "Funkcja jako argumenty będzie przyjmować obiekt Dataframe oraz listę z nazwami kolumn, którym chcielibyśmy zmienić typ na `category`."
   ]
  },
  {
   "cell_type": "code",
   "execution_count": 8,
   "metadata": {
    "collapsed": false
   },
   "outputs": [],
   "source": [
    "list_of_columns = ['transmission', 'color', 'engine_fuel', 'engine_type', 'body_type', 'state', 'drivetrain', 'location_region']"
   ]
  },
  {
   "cell_type": "code",
   "execution_count": 9,
   "metadata": {},
   "outputs": [],
   "source": [
    "def proper_columns_types(df, list_of_columns):\n",
    "    for i in list_of_columns:\n",
    "        df[i] = df[i].astype('category')\n",
    "    return df"
   ]
  },
  {
   "cell_type": "code",
   "execution_count": 10,
   "metadata": {},
   "outputs": [
    {
     "name": "stdout",
     "output_type": "stream",
     "text": [
      "<class 'pandas.core.frame.DataFrame'>\n",
      "RangeIndex: 38531 entries, 0 to 38530\n",
      "Data columns (total 30 columns):\n",
      " #   Column             Non-Null Count  Dtype   \n",
      "---  ------             --------------  -----   \n",
      " 0   manufacturer_name  38531 non-null  object  \n",
      " 1   model_name         38531 non-null  object  \n",
      " 2   transmission       38531 non-null  category\n",
      " 3   color              38531 non-null  category\n",
      " 4   odometer_value     38531 non-null  int64   \n",
      " 5   year_produced      38531 non-null  int64   \n",
      " 6   engine_fuel        38531 non-null  category\n",
      " 7   engine_has_gas     38531 non-null  bool    \n",
      " 8   engine_type        38531 non-null  category\n",
      " 9   engine_capacity    38521 non-null  float64 \n",
      " 10  body_type          38531 non-null  category\n",
      " 11  has_warranty       38531 non-null  bool    \n",
      " 12  state              38531 non-null  category\n",
      " 13  drivetrain         38531 non-null  category\n",
      " 14  price_usd          38531 non-null  float64 \n",
      " 15  is_exchangeable    38531 non-null  bool    \n",
      " 16  location_region    38531 non-null  category\n",
      " 17  number_of_photos   38531 non-null  int64   \n",
      " 18  up_counter         38531 non-null  int64   \n",
      " 19  feature_0          38531 non-null  bool    \n",
      " 20  feature_1          38531 non-null  bool    \n",
      " 21  feature_2          38531 non-null  bool    \n",
      " 22  feature_3          38531 non-null  bool    \n",
      " 23  feature_4          38531 non-null  bool    \n",
      " 24  feature_5          38531 non-null  bool    \n",
      " 25  feature_6          38531 non-null  bool    \n",
      " 26  feature_7          38531 non-null  bool    \n",
      " 27  feature_8          38531 non-null  bool    \n",
      " 28  feature_9          38531 non-null  bool    \n",
      " 29  duration_listed    38531 non-null  int64   \n",
      "dtypes: bool(13), category(8), float64(2), int64(5), object(2)\n",
      "memory usage: 3.4+ MB\n"
     ]
    }
   ],
   "source": [
    "df = proper_columns_types(df, list_of_columns)\n",
    "df.info()"
   ]
  },
  {
   "cell_type": "markdown",
   "metadata": {
    "collapsed": false
   },
   "source": [
    "#### Wczytaj plik i od razu nadaj odpowiednim kolumnom typ 'category'."
   ]
  },
  {
   "cell_type": "code",
   "execution_count": 11,
   "metadata": {},
   "outputs": [
    {
     "name": "stdout",
     "output_type": "stream",
     "text": [
      "{'transmission': 'category', 'color': 'category', 'engine_fuel': 'category', 'engine_type': 'category', 'body_type': 'category', 'state': 'category', 'drivetrain': 'category', 'location_region': 'category'}\n"
     ]
    }
   ],
   "source": [
    "dtype_dictionary = dict.fromkeys(list_of_columns, 'category')\n",
    "\n",
    "print(dtype_dictionary)"
   ]
  },
  {
   "cell_type": "code",
   "execution_count": 12,
   "metadata": {},
   "outputs": [],
   "source": [
    "df = pd.read_csv(file, dtype = dtype_dictionary)"
   ]
  },
  {
   "cell_type": "markdown",
   "metadata": {
    "collapsed": false
   },
   "source": [
    "#### Napisz funkcję, która printuje brakujące dane.\n",
    "***\n",
    "Funkcja ta jak argument ma przyjmować obiekt typu Dataframe i printować na ekran liczbę brakujących wartości dla każdej kolumny w podanym DataFrame."
   ]
  },
  {
   "cell_type": "code",
   "execution_count": 13,
   "metadata": {
    "collapsed": false
   },
   "outputs": [],
   "source": [
    "def print_missing(df):\n",
    "    print(df.isna().sum())"
   ]
  },
  {
   "cell_type": "code",
   "execution_count": 14,
   "metadata": {},
   "outputs": [
    {
     "name": "stdout",
     "output_type": "stream",
     "text": [
      "manufacturer_name     0\n",
      "model_name            0\n",
      "transmission          0\n",
      "color                 0\n",
      "odometer_value        0\n",
      "year_produced         0\n",
      "engine_fuel           0\n",
      "engine_has_gas        0\n",
      "engine_type           0\n",
      "engine_capacity      10\n",
      "body_type             0\n",
      "has_warranty          0\n",
      "state                 0\n",
      "drivetrain            0\n",
      "price_usd             0\n",
      "is_exchangeable       0\n",
      "location_region       0\n",
      "number_of_photos      0\n",
      "up_counter            0\n",
      "feature_0             0\n",
      "feature_1             0\n",
      "feature_2             0\n",
      "feature_3             0\n",
      "feature_4             0\n",
      "feature_5             0\n",
      "feature_6             0\n",
      "feature_7             0\n",
      "feature_8             0\n",
      "feature_9             0\n",
      "duration_listed       0\n",
      "dtype: int64\n"
     ]
    }
   ],
   "source": [
    "print_missing(df)"
   ]
  },
  {
   "cell_type": "markdown",
   "metadata": {
    "collapsed": false
   },
   "source": [
    "#### Napisz funkcję, która zamienia losowe dane na 'np.nan'.\n",
    "***\n",
    "W związku z tym, że chcemy nauczyć się pracować z brakującymi danymi, najpierw musimy takie stworzyć.\n",
    "\n",
    "Nasza funkcja jako argumenty będzie przyjmować obiekt Dataframe oraz słownik. Kluczem w słowniku będą nazwy kolumn, a wartościami będą liczby błędów, które chcemy wprowadzić (`{'odometer_value': 7}` oznacza, że w kolumnie `'odometer_value'` chcemy zamienić 7 losowych wierszy na typ `'np.nan'`)\n",
    "\n",
    "Podpowiedź:\n",
    "\n",
    "W ten sposób możemy zmienić wartość na ` 'value'` w losowym wierszu w kolumnie `'column'`.\n",
    "\n",
    "`df.loc[df.sample().index, column] = 'value'`"
   ]
  },
  {
   "cell_type": "code",
   "execution_count": 15,
   "metadata": {},
   "outputs": [],
   "source": [
    "error_dict = {'odometer_value': 7, 'duration_listed': 10, 'color': 6, 'engine_type': 2, 'price_usd': 4}"
   ]
  },
  {
   "cell_type": "code",
   "execution_count": 16,
   "metadata": {
    "collapsed": false
   },
   "outputs": [],
   "source": [
    "def introduce_nan(df, error_dict):\n",
    "    for key, value in error_dict.items():\n",
    "        df.loc[df.sample(value).index, key] = np.nan\n",
    "    return df"
   ]
  },
  {
   "cell_type": "markdown",
   "metadata": {
    "collapsed": false
   },
   "source": [
    "#### Wprowadź błędy do danych.\n",
    "***\n",
    "Użyj napisanej powyżej funkcji do wprowadzenia brakujących wartości do obiektu `'df_err'`.\n",
    "\n",
    "Sprawdź, czy udało Ci się wprowadzić te błędy za pomocą funkcji do printowania brakujących wartości."
   ]
  },
  {
   "cell_type": "code",
   "execution_count": 17,
   "metadata": {
    "collapsed": false
   },
   "outputs": [],
   "source": [
    "df_error = df.copy()"
   ]
  },
  {
   "cell_type": "code",
   "execution_count": 18,
   "metadata": {
    "collapsed": false
   },
   "outputs": [
    {
     "name": "stdout",
     "output_type": "stream",
     "text": [
      "manufacturer_name     0\n",
      "model_name            0\n",
      "transmission          0\n",
      "color                 6\n",
      "odometer_value        7\n",
      "year_produced         0\n",
      "engine_fuel           0\n",
      "engine_has_gas        0\n",
      "engine_type           2\n",
      "engine_capacity      10\n",
      "body_type             0\n",
      "has_warranty          0\n",
      "state                 0\n",
      "drivetrain            0\n",
      "price_usd             4\n",
      "is_exchangeable       0\n",
      "location_region       0\n",
      "number_of_photos      0\n",
      "up_counter            0\n",
      "feature_0             0\n",
      "feature_1             0\n",
      "feature_2             0\n",
      "feature_3             0\n",
      "feature_4             0\n",
      "feature_5             0\n",
      "feature_6             0\n",
      "feature_7             0\n",
      "feature_8             0\n",
      "feature_9             0\n",
      "duration_listed      10\n",
      "dtype: int64\n"
     ]
    }
   ],
   "source": [
    "df_error = introduce_nan(df_error, error_dict)\n",
    "print_missing(df_error)"
   ]
  },
  {
   "cell_type": "markdown",
   "metadata": {
    "collapsed": false
   },
   "source": [
    "#### Zamień dane typu 'np.nan' na dane liczbowe.\n",
    "***\n",
    "W kolumnach `'odometer_value'` i `'duration_listed'` zamień brakujące wartości na średnią wartość całej kolumny.\n",
    "\n",
    "W kolumnach `'color':` i `'engine_type'`: zamień brakujące wartości na najczęściej występujący element w całej kolumnie.\n",
    "\n",
    "W kolumnie `'price_usd'` usuń brakujące wartości z naszego obiektu Dataframe."
   ]
  },
  {
   "cell_type": "code",
   "execution_count": 19,
   "metadata": {
    "collapsed": false
   },
   "outputs": [],
   "source": [
    "df_err = df_error.copy()"
   ]
  },
  {
   "cell_type": "code",
   "execution_count": 20,
   "metadata": {
    "collapsed": false
   },
   "outputs": [],
   "source": [
    "avg_odometer_value = df_err['odometer_value'].astype(\"float\").mean(axis=0)\n",
    "df_err[\"odometer_value\"] = df_err[\"odometer_value\"].replace(np.nan, avg_odometer_value)"
   ]
  },
  {
   "cell_type": "code",
   "execution_count": 21,
   "metadata": {
    "collapsed": false
   },
   "outputs": [],
   "source": [
    "avg_duration_listed = df_err['duration_listed'].astype(\"float\").mean(axis=0)\n",
    "df_err[\"duration_listed\"] = df_err[\"duration_listed\"].replace(np.nan, avg_duration_listed)"
   ]
  },
  {
   "cell_type": "code",
   "execution_count": 22,
   "metadata": {
    "collapsed": false
   },
   "outputs": [],
   "source": [
    "max_color = df_err['color'].mode().item()\n",
    "df_err['color'] = df_err['color'].fillna(max_color)"
   ]
  },
  {
   "cell_type": "code",
   "execution_count": 23,
   "metadata": {
    "collapsed": false
   },
   "outputs": [],
   "source": [
    "max_engine_type = df_err['engine_type'].mode().item()\n",
    "df_err['engine_type'] = df_err['engine_type'].fillna(max_engine_type)"
   ]
  },
  {
   "cell_type": "code",
   "execution_count": 24,
   "metadata": {
    "collapsed": false
   },
   "outputs": [],
   "source": [
    "df = df.dropna(subset=['price_usd'], axis=0)\n",
    "df = df.reset_index(drop=True)"
   ]
  },
  {
   "cell_type": "markdown",
   "metadata": {
    "collapsed": false
   },
   "source": [
    "#### Napisz funkcję, która zamienia dane typu 'np.nan' na dane liczbowe.\n",
    "***\n",
    "Nasza funkcja jako argumenty będzie przyjmować obiekt Dataframe oraz słownik. Kluczem w słowniku będą nazwy kolumn, a wartościami będą wartości `'average'`,`'max'` albo `'drop'` (w zależności co chcemy zrobić z brakującymi danymi).\n"
   ]
  },
  {
   "cell_type": "code",
   "execution_count": 25,
   "metadata": {
    "collapsed": false
   },
   "outputs": [],
   "source": [
    "replace_dict = {'odometer_value': 'average', 'duration_listed': 'average', 'color': 'max', 'engine_type': 'max', 'price_usd': 'drop'}"
   ]
  },
  {
   "cell_type": "code",
   "execution_count": 26,
   "metadata": {
    "collapsed": false
   },
   "outputs": [],
   "source": [
    "def replace_column(df, replace_dict):\n",
    "    for key, value in replace_dict.items():\n",
    "        if value == 'average':\n",
    "            avg = df[key].astype(\"float\").mean(axis=0)\n",
    "            df[key] = df[key].replace(np.nan, avg)\n",
    "        elif value == 'max':\n",
    "            max_col = df[key].mode().item()\n",
    "            df[key] = df[key].fillna(max_col)\n",
    "        elif value == 'drop':\n",
    "            df = df.dropna(subset=[key], axis=0)\n",
    "            df = df.reset_index(drop=True)\n",
    "    return df"
   ]
  },
  {
   "cell_type": "markdown",
   "metadata": {
    "collapsed": false
   },
   "source": [
    "#### Usuń błędy z danych.\n",
    "***\n",
    "Użyj napisanej powyżej funkcji do zastąpienia lub usunięcia brakujących wartości z obiektu `'df_err'`.\n",
    "\n",
    "Sprawdź, czy udało Ci się to zrobić za pomocą funkcji do printowania brakujących wartości."
   ]
  },
  {
   "cell_type": "code",
   "execution_count": 27,
   "metadata": {
    "collapsed": false
   },
   "outputs": [
    {
     "name": "stdout",
     "output_type": "stream",
     "text": [
      "manufacturer_name     0\n",
      "model_name            0\n",
      "transmission          0\n",
      "color                 0\n",
      "odometer_value        0\n",
      "year_produced         0\n",
      "engine_fuel           0\n",
      "engine_has_gas        0\n",
      "engine_type           0\n",
      "engine_capacity      10\n",
      "body_type             0\n",
      "has_warranty          0\n",
      "state                 0\n",
      "drivetrain            0\n",
      "price_usd             0\n",
      "is_exchangeable       0\n",
      "location_region       0\n",
      "number_of_photos      0\n",
      "up_counter            0\n",
      "feature_0             0\n",
      "feature_1             0\n",
      "feature_2             0\n",
      "feature_3             0\n",
      "feature_4             0\n",
      "feature_5             0\n",
      "feature_6             0\n",
      "feature_7             0\n",
      "feature_8             0\n",
      "feature_9             0\n",
      "duration_listed       0\n",
      "dtype: int64\n"
     ]
    }
   ],
   "source": [
    "df_err = replace_column(df_err, replace_dict)\n",
    "print_missing(df_err)"
   ]
  },
  {
   "cell_type": "markdown",
   "metadata": {
    "collapsed": false
   },
   "source": [
    "#### Napisz zapytanie.\n",
    "***\n",
    "Znajdź wszystkie samochody marki Mercedes-Benz wyprodukowane po 2010 roku."
   ]
  },
  {
   "cell_type": "code",
   "execution_count": 28,
   "metadata": {},
   "outputs": [
    {
     "data": {
      "text/html": [
       "<div>\n",
       "<style scoped>\n",
       "    .dataframe tbody tr th:only-of-type {\n",
       "        vertical-align: middle;\n",
       "    }\n",
       "\n",
       "    .dataframe tbody tr th {\n",
       "        vertical-align: top;\n",
       "    }\n",
       "\n",
       "    .dataframe thead th {\n",
       "        text-align: right;\n",
       "    }\n",
       "</style>\n",
       "<table border=\"1\" class=\"dataframe\">\n",
       "  <thead>\n",
       "    <tr style=\"text-align: right;\">\n",
       "      <th></th>\n",
       "      <th>manufacturer_name</th>\n",
       "      <th>model_name</th>\n",
       "      <th>transmission</th>\n",
       "      <th>color</th>\n",
       "      <th>odometer_value</th>\n",
       "      <th>year_produced</th>\n",
       "      <th>engine_fuel</th>\n",
       "      <th>engine_has_gas</th>\n",
       "      <th>engine_type</th>\n",
       "      <th>engine_capacity</th>\n",
       "      <th>...</th>\n",
       "      <th>feature_1</th>\n",
       "      <th>feature_2</th>\n",
       "      <th>feature_3</th>\n",
       "      <th>feature_4</th>\n",
       "      <th>feature_5</th>\n",
       "      <th>feature_6</th>\n",
       "      <th>feature_7</th>\n",
       "      <th>feature_8</th>\n",
       "      <th>feature_9</th>\n",
       "      <th>duration_listed</th>\n",
       "    </tr>\n",
       "  </thead>\n",
       "  <tbody>\n",
       "    <tr>\n",
       "      <th>33976</th>\n",
       "      <td>Mercedes-Benz</td>\n",
       "      <td>GL350</td>\n",
       "      <td>automatic</td>\n",
       "      <td>black</td>\n",
       "      <td>287000</td>\n",
       "      <td>2011</td>\n",
       "      <td>diesel</td>\n",
       "      <td>False</td>\n",
       "      <td>diesel</td>\n",
       "      <td>3.0</td>\n",
       "      <td>...</td>\n",
       "      <td>False</td>\n",
       "      <td>True</td>\n",
       "      <td>True</td>\n",
       "      <td>True</td>\n",
       "      <td>True</td>\n",
       "      <td>True</td>\n",
       "      <td>True</td>\n",
       "      <td>True</td>\n",
       "      <td>True</td>\n",
       "      <td>102</td>\n",
       "    </tr>\n",
       "    <tr>\n",
       "      <th>33978</th>\n",
       "      <td>Mercedes-Benz</td>\n",
       "      <td>Viano</td>\n",
       "      <td>automatic</td>\n",
       "      <td>black</td>\n",
       "      <td>284000</td>\n",
       "      <td>2012</td>\n",
       "      <td>gasoline</td>\n",
       "      <td>False</td>\n",
       "      <td>gasoline</td>\n",
       "      <td>3.5</td>\n",
       "      <td>...</td>\n",
       "      <td>False</td>\n",
       "      <td>False</td>\n",
       "      <td>False</td>\n",
       "      <td>False</td>\n",
       "      <td>False</td>\n",
       "      <td>False</td>\n",
       "      <td>False</td>\n",
       "      <td>False</td>\n",
       "      <td>False</td>\n",
       "      <td>13</td>\n",
       "    </tr>\n",
       "    <tr>\n",
       "      <th>33990</th>\n",
       "      <td>Mercedes-Benz</td>\n",
       "      <td>CLA220</td>\n",
       "      <td>automatic</td>\n",
       "      <td>white</td>\n",
       "      <td>42000</td>\n",
       "      <td>2013</td>\n",
       "      <td>gasoline</td>\n",
       "      <td>False</td>\n",
       "      <td>gasoline</td>\n",
       "      <td>1.6</td>\n",
       "      <td>...</td>\n",
       "      <td>False</td>\n",
       "      <td>True</td>\n",
       "      <td>True</td>\n",
       "      <td>False</td>\n",
       "      <td>True</td>\n",
       "      <td>True</td>\n",
       "      <td>True</td>\n",
       "      <td>True</td>\n",
       "      <td>True</td>\n",
       "      <td>1</td>\n",
       "    </tr>\n",
       "    <tr>\n",
       "      <th>33995</th>\n",
       "      <td>Mercedes-Benz</td>\n",
       "      <td>E200</td>\n",
       "      <td>mechanical</td>\n",
       "      <td>grey</td>\n",
       "      <td>148700</td>\n",
       "      <td>2015</td>\n",
       "      <td>diesel</td>\n",
       "      <td>False</td>\n",
       "      <td>diesel</td>\n",
       "      <td>2.2</td>\n",
       "      <td>...</td>\n",
       "      <td>True</td>\n",
       "      <td>True</td>\n",
       "      <td>True</td>\n",
       "      <td>True</td>\n",
       "      <td>True</td>\n",
       "      <td>True</td>\n",
       "      <td>True</td>\n",
       "      <td>True</td>\n",
       "      <td>True</td>\n",
       "      <td>12</td>\n",
       "    </tr>\n",
       "    <tr>\n",
       "      <th>34012</th>\n",
       "      <td>Mercedes-Benz</td>\n",
       "      <td>Sprinter</td>\n",
       "      <td>mechanical</td>\n",
       "      <td>white</td>\n",
       "      <td>181500</td>\n",
       "      <td>2016</td>\n",
       "      <td>diesel</td>\n",
       "      <td>False</td>\n",
       "      <td>diesel</td>\n",
       "      <td>2.2</td>\n",
       "      <td>...</td>\n",
       "      <td>True</td>\n",
       "      <td>False</td>\n",
       "      <td>False</td>\n",
       "      <td>False</td>\n",
       "      <td>False</td>\n",
       "      <td>True</td>\n",
       "      <td>True</td>\n",
       "      <td>False</td>\n",
       "      <td>False</td>\n",
       "      <td>12</td>\n",
       "    </tr>\n",
       "    <tr>\n",
       "      <th>...</th>\n",
       "      <td>...</td>\n",
       "      <td>...</td>\n",
       "      <td>...</td>\n",
       "      <td>...</td>\n",
       "      <td>...</td>\n",
       "      <td>...</td>\n",
       "      <td>...</td>\n",
       "      <td>...</td>\n",
       "      <td>...</td>\n",
       "      <td>...</td>\n",
       "      <td>...</td>\n",
       "      <td>...</td>\n",
       "      <td>...</td>\n",
       "      <td>...</td>\n",
       "      <td>...</td>\n",
       "      <td>...</td>\n",
       "      <td>...</td>\n",
       "      <td>...</td>\n",
       "      <td>...</td>\n",
       "      <td>...</td>\n",
       "      <td>...</td>\n",
       "    </tr>\n",
       "    <tr>\n",
       "      <th>36158</th>\n",
       "      <td>Mercedes-Benz</td>\n",
       "      <td>GLK220</td>\n",
       "      <td>automatic</td>\n",
       "      <td>black</td>\n",
       "      <td>240000</td>\n",
       "      <td>2012</td>\n",
       "      <td>diesel</td>\n",
       "      <td>False</td>\n",
       "      <td>diesel</td>\n",
       "      <td>2.2</td>\n",
       "      <td>...</td>\n",
       "      <td>True</td>\n",
       "      <td>False</td>\n",
       "      <td>True</td>\n",
       "      <td>True</td>\n",
       "      <td>True</td>\n",
       "      <td>False</td>\n",
       "      <td>True</td>\n",
       "      <td>True</td>\n",
       "      <td>True</td>\n",
       "      <td>206</td>\n",
       "    </tr>\n",
       "    <tr>\n",
       "      <th>36162</th>\n",
       "      <td>Mercedes-Benz</td>\n",
       "      <td>ML350</td>\n",
       "      <td>automatic</td>\n",
       "      <td>black</td>\n",
       "      <td>190000</td>\n",
       "      <td>2011</td>\n",
       "      <td>diesel</td>\n",
       "      <td>False</td>\n",
       "      <td>diesel</td>\n",
       "      <td>3.0</td>\n",
       "      <td>...</td>\n",
       "      <td>True</td>\n",
       "      <td>False</td>\n",
       "      <td>True</td>\n",
       "      <td>True</td>\n",
       "      <td>True</td>\n",
       "      <td>True</td>\n",
       "      <td>True</td>\n",
       "      <td>True</td>\n",
       "      <td>True</td>\n",
       "      <td>211</td>\n",
       "    </tr>\n",
       "    <tr>\n",
       "      <th>36180</th>\n",
       "      <td>Mercedes-Benz</td>\n",
       "      <td>E63 AMG</td>\n",
       "      <td>automatic</td>\n",
       "      <td>white</td>\n",
       "      <td>60000</td>\n",
       "      <td>2013</td>\n",
       "      <td>gasoline</td>\n",
       "      <td>False</td>\n",
       "      <td>gasoline</td>\n",
       "      <td>5.5</td>\n",
       "      <td>...</td>\n",
       "      <td>True</td>\n",
       "      <td>True</td>\n",
       "      <td>True</td>\n",
       "      <td>True</td>\n",
       "      <td>True</td>\n",
       "      <td>True</td>\n",
       "      <td>True</td>\n",
       "      <td>True</td>\n",
       "      <td>True</td>\n",
       "      <td>252</td>\n",
       "    </tr>\n",
       "    <tr>\n",
       "      <th>36196</th>\n",
       "      <td>Mercedes-Benz</td>\n",
       "      <td>CLA200</td>\n",
       "      <td>automatic</td>\n",
       "      <td>white</td>\n",
       "      <td>179000</td>\n",
       "      <td>2013</td>\n",
       "      <td>gasoline</td>\n",
       "      <td>False</td>\n",
       "      <td>gasoline</td>\n",
       "      <td>1.6</td>\n",
       "      <td>...</td>\n",
       "      <td>True</td>\n",
       "      <td>True</td>\n",
       "      <td>True</td>\n",
       "      <td>True</td>\n",
       "      <td>True</td>\n",
       "      <td>True</td>\n",
       "      <td>True</td>\n",
       "      <td>True</td>\n",
       "      <td>True</td>\n",
       "      <td>80</td>\n",
       "    </tr>\n",
       "    <tr>\n",
       "      <th>36205</th>\n",
       "      <td>Mercedes-Benz</td>\n",
       "      <td>E200</td>\n",
       "      <td>automatic</td>\n",
       "      <td>black</td>\n",
       "      <td>95000</td>\n",
       "      <td>2012</td>\n",
       "      <td>gasoline</td>\n",
       "      <td>False</td>\n",
       "      <td>gasoline</td>\n",
       "      <td>1.8</td>\n",
       "      <td>...</td>\n",
       "      <td>True</td>\n",
       "      <td>True</td>\n",
       "      <td>True</td>\n",
       "      <td>True</td>\n",
       "      <td>True</td>\n",
       "      <td>True</td>\n",
       "      <td>True</td>\n",
       "      <td>True</td>\n",
       "      <td>True</td>\n",
       "      <td>81</td>\n",
       "    </tr>\n",
       "  </tbody>\n",
       "</table>\n",
       "<p>300 rows × 30 columns</p>\n",
       "</div>"
      ],
      "text/plain": [
       "      manufacturer_name model_name transmission  color  odometer_value  \\\n",
       "33976     Mercedes-Benz      GL350    automatic  black          287000   \n",
       "33978     Mercedes-Benz      Viano    automatic  black          284000   \n",
       "33990     Mercedes-Benz     CLA220    automatic  white           42000   \n",
       "33995     Mercedes-Benz       E200   mechanical   grey          148700   \n",
       "34012     Mercedes-Benz   Sprinter   mechanical  white          181500   \n",
       "...                 ...        ...          ...    ...             ...   \n",
       "36158     Mercedes-Benz     GLK220    automatic  black          240000   \n",
       "36162     Mercedes-Benz      ML350    automatic  black          190000   \n",
       "36180     Mercedes-Benz    E63 AMG    automatic  white           60000   \n",
       "36196     Mercedes-Benz     CLA200    automatic  white          179000   \n",
       "36205     Mercedes-Benz       E200    automatic  black           95000   \n",
       "\n",
       "       year_produced engine_fuel  engine_has_gas engine_type  engine_capacity  \\\n",
       "33976           2011      diesel           False      diesel              3.0   \n",
       "33978           2012    gasoline           False    gasoline              3.5   \n",
       "33990           2013    gasoline           False    gasoline              1.6   \n",
       "33995           2015      diesel           False      diesel              2.2   \n",
       "34012           2016      diesel           False      diesel              2.2   \n",
       "...              ...         ...             ...         ...              ...   \n",
       "36158           2012      diesel           False      diesel              2.2   \n",
       "36162           2011      diesel           False      diesel              3.0   \n",
       "36180           2013    gasoline           False    gasoline              5.5   \n",
       "36196           2013    gasoline           False    gasoline              1.6   \n",
       "36205           2012    gasoline           False    gasoline              1.8   \n",
       "\n",
       "       ... feature_1  feature_2 feature_3 feature_4  feature_5  feature_6  \\\n",
       "33976  ...     False       True      True      True       True       True   \n",
       "33978  ...     False      False     False     False      False      False   \n",
       "33990  ...     False       True      True     False       True       True   \n",
       "33995  ...      True       True      True      True       True       True   \n",
       "34012  ...      True      False     False     False      False       True   \n",
       "...    ...       ...        ...       ...       ...        ...        ...   \n",
       "36158  ...      True      False      True      True       True      False   \n",
       "36162  ...      True      False      True      True       True       True   \n",
       "36180  ...      True       True      True      True       True       True   \n",
       "36196  ...      True       True      True      True       True       True   \n",
       "36205  ...      True       True      True      True       True       True   \n",
       "\n",
       "      feature_7  feature_8  feature_9  duration_listed  \n",
       "33976      True       True       True              102  \n",
       "33978     False      False      False               13  \n",
       "33990      True       True       True                1  \n",
       "33995      True       True       True               12  \n",
       "34012      True      False      False               12  \n",
       "...         ...        ...        ...              ...  \n",
       "36158      True       True       True              206  \n",
       "36162      True       True       True              211  \n",
       "36180      True       True       True              252  \n",
       "36196      True       True       True               80  \n",
       "36205      True       True       True               81  \n",
       "\n",
       "[300 rows x 30 columns]"
      ]
     },
     "execution_count": 28,
     "metadata": {},
     "output_type": "execute_result"
    }
   ],
   "source": [
    "manufacturer = 'Mercedes-Benz'\n",
    "year = 2010\n",
    "df.query('year_produced > @year and manufacturer_name == @manufacturer')# and engine_capacity > @min_capacity')"
   ]
  },
  {
   "cell_type": "markdown",
   "metadata": {
    "collapsed": false
   },
   "source": [
    "#### Policz rok produkcji podniesiony do kwadratu.\n",
    "***\n",
    "W obiekcie `'df_sec'` stwórz nowe kolumny `'year_produced_squared_1'` i `'year_produced_squared_2'` w których znajdzie się rok produkcji podniesiony do kwadratu.\n",
    "\n",
    "Zrób to na dwa sposoby:\n",
    "- działanie bezpośrednio na kolumnie\n",
    "- działanie przy pomocy funkcji `.apply(lambda x: x)`"
   ]
  },
  {
   "cell_type": "code",
   "execution_count": 59,
   "metadata": {
    "collapsed": false
   },
   "outputs": [],
   "source": [
    "df_sec = df.copy()"
   ]
  },
  {
   "cell_type": "code",
   "execution_count": 60,
   "metadata": {},
   "outputs": [],
   "source": [
    "df_sec['year_produced_squared_1'] = df_sec['year_produced'] ** 2"
   ]
  },
  {
   "cell_type": "code",
   "execution_count": 61,
   "metadata": {},
   "outputs": [],
   "source": [
    "df_sec['year_produced_squared_2'] = df['year_produced'].apply(lambda x: x**2)\n",
    "#df_sec['year_produced'] ** 2"
   ]
  },
  {
   "cell_type": "markdown",
   "metadata": {
    "collapsed": false
   },
   "source": [
    "#### Oceń czy samochód można uznać za nowy.\n",
    "***\n",
    "W obiekcie `'df_sec'` stwórz nową kolumnę `'is_new'`. Wartość powinna wynosić `True` dla wszystkich samochodów wyprodukowanych po 2016 i z przebiegiem mniejszym niż 100 000 km (oba warunki spełnione jednocześnie). W pozostałych przypadkach wartość powinna wynosić `'False'`."
   ]
  },
  {
   "cell_type": "code",
   "execution_count": 62,
   "metadata": {
    "collapsed": false
   },
   "outputs": [],
   "source": [
    "df_sec['is_new'] = df['year_produced'].apply(lambda x: True if x > 2016 else False)"
   ]
  },
  {
   "cell_type": "markdown",
   "metadata": {
    "collapsed": false
   },
   "source": [
    "#### Policz średnią liczbę przebytych kilometrów na rok.\n",
    "***\n",
    "W obiekcie `'df_sec'` stwórz nową kolumnę `'km_per_year'`. Wartość powinna wynosić liczbę przebytych kilometrów podzieloną na lata użytkowania (zakładamy, że dane pochodzą z 2019 roku)."
   ]
  },
  {
   "cell_type": "code",
   "execution_count": 63,
   "metadata": {},
   "outputs": [
    {
     "data": {
      "text/plain": [
       "Index(['manufacturer_name', 'model_name', 'transmission', 'color',\n",
       "       'odometer_value', 'year_produced', 'engine_fuel', 'engine_has_gas',\n",
       "       'engine_type', 'engine_capacity', 'body_type', 'has_warranty', 'state',\n",
       "       'drivetrain', 'price_usd', 'is_exchangeable', 'location_region',\n",
       "       'number_of_photos', 'up_counter', 'feature_0', 'feature_1', 'feature_2',\n",
       "       'feature_3', 'feature_4', 'feature_5', 'feature_6', 'feature_7',\n",
       "       'feature_8', 'feature_9', 'duration_listed', 'km_per_year',\n",
       "       'odometer_value_norm_dist_norm', 'year_produced_squared_1',\n",
       "       'year_produced_squared_2', 'is_new'],\n",
       "      dtype='object')"
      ]
     },
     "execution_count": 63,
     "metadata": {},
     "output_type": "execute_result"
    }
   ],
   "source": [
    "df_sec.columns"
   ]
  },
  {
   "cell_type": "code",
   "execution_count": 64,
   "metadata": {},
   "outputs": [],
   "source": [
    "#df_sec['km_per_year'] = df_sec.apply(lambda x: x['odometer_value']/(2019 - x['year_produced']))\n",
    "df_sec = df_sec.assign(km_per_year = lambda x: (x['odometer_value']/(2019 - x['year_produced'])))"
   ]
  },
  {
   "cell_type": "markdown",
   "metadata": {
    "collapsed": false
   },
   "source": [
    "#### Napisz funkcję, która liczy przebyte kilometry w ciągu roku.\n",
    "***\n",
    "Nasza funkcja jako argumenty będzie przyjmować obiekt Dataframe oraz rok, z którego pochodzą dane.\n",
    "Funkcja będzie zwracać obiekt typu Dataframe, który w kolumnie `'kpy'` ma policzoną tę wartość."
   ]
  },
  {
   "cell_type": "code",
   "execution_count": 65,
   "metadata": {},
   "outputs": [],
   "source": [
    "def calculate_kpy(df, year):\n",
    "    df = df.assign(kpy = lambda x: (x['odometer_value']/(year - x['year_produced'])))\n",
    "    return df"
   ]
  },
  {
   "cell_type": "markdown",
   "metadata": {
    "collapsed": false
   },
   "source": [
    "#### Jeszcze raz policz średnią liczbę przebytych kilometrów na rok.\n",
    "***\n",
    "Na obiekcie `'df_sec'` użyj napisanej powyżej funkcji (zakładamy, że dane pochodzą z 2019 roku)."
   ]
  },
  {
   "cell_type": "code",
   "execution_count": 66,
   "metadata": {
    "collapsed": false
   },
   "outputs": [],
   "source": [
    "df_sec = calculate_kpy(df_sec, 2019)"
   ]
  },
  {
   "cell_type": "markdown",
   "metadata": {
    "collapsed": false
   },
   "source": [
    "#### Ustandaryzuj dane.\n",
    "***\n",
    "W obiekcie `'df_sec'` stwórz nowe kolumny `'odometer_value_min_max_norm'` i `'odometer_value_norm_dist_norm'` w których ustandaryzowana (znormalizowana) wartość z kolumny `'odometer_value'`.\n",
    "\n",
    "Zrób to na dwa sposoby:\n",
    "- standaryzacja z użyciem wartości minimalnych i maksymalnych\n",
    "- standaryzacja z użyciem wartości średniej i odchylenia standardowego"
   ]
  },
  {
   "cell_type": "code",
   "execution_count": 67,
   "metadata": {},
   "outputs": [],
   "source": [
    "mean_duration = df_sec['odometer_value'].mean()\n",
    "std_duration = df_sec['odometer_value'].std()\n",
    "df_sec['odometer_value_norm_dist_norm'] = (df_sec['odometer_value'] - mean_duration) / std_duration"
   ]
  },
  {
   "cell_type": "code",
   "execution_count": 68,
   "metadata": {},
   "outputs": [],
   "source": [
    "min_year = df_sec['odometer_value'].min()\n",
    "max_year = df_sec['odometer_value'].max()\n",
    "df_sec['odometer_value_min_max_norm'] = (df_sec['odometer_value'] - min_year) / (max_year - min_year)"
   ]
  },
  {
   "cell_type": "markdown",
   "metadata": {
    "collapsed": false
   },
   "source": [
    "#### Zmień wszystkie dane w kolumnie na małe litery.\n",
    "***\n",
    "W obiekcie `'df_sec'` stwórz nową kolumnę `'model_name_lower'`, która będzie zawierać wartości z kolumny `'model_name'`, ale ze wszystkimi wielkimi literami zmienionymi na małe."
   ]
  },
  {
   "cell_type": "code",
   "execution_count": 69,
   "metadata": {},
   "outputs": [],
   "source": [
    "df_sec['model_name_lower'] = df_sec['model_name'].str.lower()"
   ]
  },
  {
   "cell_type": "markdown",
   "metadata": {
    "collapsed": false
   },
   "source": [
    "#### Zmień nazwy kolumn.\n",
    "***\n",
    "W obiekcie `'df_sec'` zmień nazwy kolumn `'manufacturer_name'` oraz `'model_name'` na odpowiednio `'Manufacturer_Name'` i `'Model_Name'`."
   ]
  },
  {
   "cell_type": "code",
   "execution_count": 70,
   "metadata": {
    "collapsed": false
   },
   "outputs": [],
   "source": [
    "changed_names_dict = {'manufacturer_name':'Manufacturer_Name', 'model_name':'Model_Name'}"
   ]
  },
  {
   "cell_type": "code",
   "execution_count": 71,
   "metadata": {
    "collapsed": false
   },
   "outputs": [],
   "source": [
    "df_sec = df_sec.rename(columns = changed_names_dict)"
   ]
  },
  {
   "cell_type": "markdown",
   "metadata": {
    "collapsed": false
   },
   "source": [
    "#### Policz średnią wartość odczytu z licznika w zależności od marki i modelu samochodu.\n",
    "***\n",
    "Pogrupuj dane po kolumnach `'Manufacturer_Name'` oraz `'Model_Name'` i policz dla nich średnią z kolumny `'odometer_value'`."
   ]
  },
  {
   "cell_type": "code",
   "execution_count": 72,
   "metadata": {
    "collapsed": false
   },
   "outputs": [
    {
     "name": "stdout",
     "output_type": "stream",
     "text": [
      "Manufacturer_Name  Model_Name\n",
      "Acura              CL            220000.000000\n",
      "                   ILX            78333.333333\n",
      "                   Integra       218871.000000\n",
      "                   MDX           199561.380952\n",
      "                   RDX           148056.250000\n",
      "                                     ...      \n",
      "УАЗ                451           111660.500000\n",
      "                   452           231586.750000\n",
      "                   469           133524.882353\n",
      "                   Hunter         86666.600000\n",
      "                   Patriot       104476.533333\n",
      "Name: odometer_value, Length: 1157, dtype: float64\n"
     ]
    }
   ],
   "source": [
    "# Grupowanie danych według kolumny 'manufacturer_name' i 'model_name'.\n",
    "car_group = df_sec.groupby(['Manufacturer_Name','Model_Name'])\n",
    "\n",
    "# Obliczanie sumy sprzedaży dla każdej grupy\n",
    "mean_odometer_value = car_group['odometer_value'].mean()\n",
    "\n",
    "print(mean_odometer_value)"
   ]
  },
  {
   "cell_type": "markdown",
   "metadata": {
    "collapsed": false
   },
   "source": [
    "#### Policz średnią wartość pojemności silnika w zależności od typu skrzyni biegów i liczbę wystąpień danych typów skrzyni biegów.\n",
    "***\n",
    "Pogrupuj dane po kolumnie `'transmission'` i policz dla nich średnią z kolumny `'engine_capacity'` oraz policz liczbę obserwacji w każdej grupie."
   ]
  },
  {
   "cell_type": "code",
   "execution_count": 79,
   "metadata": {},
   "outputs": [],
   "source": [
    "car_group = df.groupby(['transmission']).agg({'engine_capacity': 'mean', 'transmission': 'count'})"
   ]
  },
  {
   "cell_type": "code",
   "execution_count": 80,
   "metadata": {},
   "outputs": [
    {
     "data": {
      "text/html": [
       "<div>\n",
       "<style scoped>\n",
       "    .dataframe tbody tr th:only-of-type {\n",
       "        vertical-align: middle;\n",
       "    }\n",
       "\n",
       "    .dataframe tbody tr th {\n",
       "        vertical-align: top;\n",
       "    }\n",
       "\n",
       "    .dataframe thead th {\n",
       "        text-align: right;\n",
       "    }\n",
       "</style>\n",
       "<table border=\"1\" class=\"dataframe\">\n",
       "  <thead>\n",
       "    <tr style=\"text-align: right;\">\n",
       "      <th></th>\n",
       "      <th>engine_capacity</th>\n",
       "      <th>transmission</th>\n",
       "    </tr>\n",
       "    <tr>\n",
       "      <th>transmission</th>\n",
       "      <th></th>\n",
       "      <th></th>\n",
       "    </tr>\n",
       "  </thead>\n",
       "  <tbody>\n",
       "    <tr>\n",
       "      <th>automatic</th>\n",
       "      <td>2.460844</td>\n",
       "      <td>12898</td>\n",
       "    </tr>\n",
       "    <tr>\n",
       "      <th>mechanical</th>\n",
       "      <td>1.851188</td>\n",
       "      <td>25633</td>\n",
       "    </tr>\n",
       "  </tbody>\n",
       "</table>\n",
       "</div>"
      ],
      "text/plain": [
       "              engine_capacity  transmission\n",
       "transmission                               \n",
       "automatic            2.460844         12898\n",
       "mechanical           1.851188         25633"
      ]
     },
     "execution_count": 80,
     "metadata": {},
     "output_type": "execute_result"
    }
   ],
   "source": [
    "car_group"
   ]
  },
  {
   "cell_type": "code",
   "execution_count": null,
   "metadata": {},
   "outputs": [],
   "source": []
  }
 ],
 "metadata": {
  "kernelspec": {
   "display_name": "machine_learning",
   "language": "python",
   "name": "python3"
  },
  "language_info": {
   "codemirror_mode": {
    "name": "ipython",
    "version": 3
   },
   "file_extension": ".py",
   "mimetype": "text/x-python",
   "name": "python",
   "nbconvert_exporter": "python",
   "pygments_lexer": "ipython3",
   "version": "3.9.16"
  },
  "vscode": {
   "interpreter": {
    "hash": "784f529243857cc9303819ed5c662cbb34c5c06eb6d576d02e48d616b962e357"
   }
  }
 },
 "nbformat": 4,
 "nbformat_minor": 1
}
